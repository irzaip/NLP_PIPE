{
 "cells": [
  {
   "cell_type": "code",
   "execution_count": null,
   "metadata": {},
   "outputs": [],
   "source": [
    "!pip install tweepy"
   ]
  },
  {
   "cell_type": "markdown",
   "metadata": {},
   "source": [
    "# SCRAPE DENGAN TWEEPY"
   ]
  },
  {
   "cell_type": "code",
   "execution_count": 1,
   "metadata": {},
   "outputs": [],
   "source": [
    "import tweepy\n",
    "consumer_key = \"o5aYQk4FyegElpNt3XlxUf5RP\"\n",
    "consumer_secret = \"2A388e5WtBwWZf7bmN6IY5ivOgOhigEKrFwnzZhQUXSDnYCQVq\"\n",
    "access_token = \"39393977-n8WzLduhGto9gF0bufKyN1ZUydyazOf5F698LMWnb\"\n",
    "access_token_secret = \"ihQzAuAJFdz51wwnU5Zb81QK7WJeyCPzruM6P237Xas1t\"\n",
    "auth = tweepy.OAuthHandler(consumer_key, consumer_secret)\n",
    "auth.set_access_token(access_token, access_token_secret)\n",
    "api = tweepy.API(auth,wait_on_rate_limit=True)"
   ]
  },
  {
   "cell_type": "code",
   "execution_count": 39,
   "metadata": {},
   "outputs": [],
   "source": [
    "#GET SPESIFIC TWEET USER\n",
    "tweets = []\n",
    "username = 'msaid_didu'\n",
    "count = 200\n",
    "try: \n",
    "  # Pulling individual tweets from query\n",
    "  for tweet in api.user_timeline(id=username, count=count):\n",
    "    # Adding to list that contains all tweets\n",
    "    tweets.append((tweet.created_at,tweet.id,tweet.text))\n",
    "except BaseException as e:\n",
    "      print('failed on_status,',str(e))\n",
    "      time.sleep(3)"
   ]
  },
  {
   "cell_type": "code",
   "execution_count": 40,
   "metadata": {},
   "outputs": [],
   "source": [
    "import pandas as pd\n",
    "df = pd.DataFrame(tweets)"
   ]
  },
  {
   "cell_type": "code",
   "execution_count": 41,
   "metadata": {},
   "outputs": [
    {
     "data": {
      "text/html": [
       "<div>\n",
       "<style scoped>\n",
       "    .dataframe tbody tr th:only-of-type {\n",
       "        vertical-align: middle;\n",
       "    }\n",
       "\n",
       "    .dataframe tbody tr th {\n",
       "        vertical-align: top;\n",
       "    }\n",
       "\n",
       "    .dataframe thead th {\n",
       "        text-align: right;\n",
       "    }\n",
       "</style>\n",
       "<table border=\"1\" class=\"dataframe\">\n",
       "  <thead>\n",
       "    <tr style=\"text-align: right;\">\n",
       "      <th></th>\n",
       "      <th>0</th>\n",
       "      <th>1</th>\n",
       "      <th>2</th>\n",
       "    </tr>\n",
       "  </thead>\n",
       "  <tbody>\n",
       "    <tr>\n",
       "      <th>0</th>\n",
       "      <td>2020-05-31 14:30:54</td>\n",
       "      <td>1267101250258006017</td>\n",
       "      <td>RT @vintenas: Washington DC, militer dipanggil...</td>\n",
       "    </tr>\n",
       "    <tr>\n",
       "      <th>1</th>\n",
       "      <td>2020-05-31 14:29:42</td>\n",
       "      <td>1267100949618634760</td>\n",
       "      <td>RT @TofaTofa_id: MENUTUPI kebenaran itu, berba...</td>\n",
       "    </tr>\n",
       "    <tr>\n",
       "      <th>2</th>\n",
       "      <td>2020-05-31 14:28:15</td>\n",
       "      <td>1267100585230086146</td>\n",
       "      <td>RT @UmarChelsea70: Harga Buku Hamka di bukalap...</td>\n",
       "    </tr>\n",
       "    <tr>\n",
       "      <th>3</th>\n",
       "      <td>2020-05-31 14:20:01</td>\n",
       "      <td>1267098511503319041</td>\n",
       "      <td>RT @redfishstream: This is what an uprising lo...</td>\n",
       "    </tr>\n",
       "    <tr>\n",
       "      <th>4</th>\n",
       "      <td>2020-05-31 14:14:20</td>\n",
       "      <td>1267097082776543233</td>\n",
       "      <td>RT @DemWrite: Colorado. At the Capitol. Laying...</td>\n",
       "    </tr>\n",
       "    <tr>\n",
       "      <th>...</th>\n",
       "      <td>...</td>\n",
       "      <td>...</td>\n",
       "      <td>...</td>\n",
       "    </tr>\n",
       "    <tr>\n",
       "      <th>195</th>\n",
       "      <td>2020-05-30 13:04:11</td>\n",
       "      <td>1266717041861423107</td>\n",
       "      <td>@PresidenKopi Yang sakit sebelumnya banyak tap...</td>\n",
       "    </tr>\n",
       "    <tr>\n",
       "      <th>196</th>\n",
       "      <td>2020-05-30 13:00:51</td>\n",
       "      <td>1266716199552905216</td>\n",
       "      <td>RT @_____31ns: Smoga peranakan PKI tak mendidi...</td>\n",
       "    </tr>\n",
       "    <tr>\n",
       "      <th>197</th>\n",
       "      <td>2020-05-30 13:00:07</td>\n",
       "      <td>1266716014701506561</td>\n",
       "      <td>RT @ASB_Breaking: BREAKING: #OHIO STATE HOUSE ...</td>\n",
       "    </tr>\n",
       "    <tr>\n",
       "      <th>198</th>\n",
       "      <td>2020-05-30 12:57:35</td>\n",
       "      <td>1266715380761808897</td>\n",
       "      <td>RT @DonAdam68: Selamat buka puasa Puang....</td>\n",
       "    </tr>\n",
       "    <tr>\n",
       "      <th>199</th>\n",
       "      <td>2020-05-30 12:57:32</td>\n",
       "      <td>1266715365775568897</td>\n",
       "      <td>RT @CNNIndonesia: Minta Jokowi Mundur, Eks Ang...</td>\n",
       "    </tr>\n",
       "  </tbody>\n",
       "</table>\n",
       "<p>200 rows × 3 columns</p>\n",
       "</div>"
      ],
      "text/plain": [
       "                      0                    1  \\\n",
       "0   2020-05-31 14:30:54  1267101250258006017   \n",
       "1   2020-05-31 14:29:42  1267100949618634760   \n",
       "2   2020-05-31 14:28:15  1267100585230086146   \n",
       "3   2020-05-31 14:20:01  1267098511503319041   \n",
       "4   2020-05-31 14:14:20  1267097082776543233   \n",
       "..                  ...                  ...   \n",
       "195 2020-05-30 13:04:11  1266717041861423107   \n",
       "196 2020-05-30 13:00:51  1266716199552905216   \n",
       "197 2020-05-30 13:00:07  1266716014701506561   \n",
       "198 2020-05-30 12:57:35  1266715380761808897   \n",
       "199 2020-05-30 12:57:32  1266715365775568897   \n",
       "\n",
       "                                                     2  \n",
       "0    RT @vintenas: Washington DC, militer dipanggil...  \n",
       "1    RT @TofaTofa_id: MENUTUPI kebenaran itu, berba...  \n",
       "2    RT @UmarChelsea70: Harga Buku Hamka di bukalap...  \n",
       "3    RT @redfishstream: This is what an uprising lo...  \n",
       "4    RT @DemWrite: Colorado. At the Capitol. Laying...  \n",
       "..                                                 ...  \n",
       "195  @PresidenKopi Yang sakit sebelumnya banyak tap...  \n",
       "196  RT @_____31ns: Smoga peranakan PKI tak mendidi...  \n",
       "197  RT @ASB_Breaking: BREAKING: #OHIO STATE HOUSE ...  \n",
       "198        RT @DonAdam68: Selamat buka puasa Puang....  \n",
       "199  RT @CNNIndonesia: Minta Jokowi Mundur, Eks Ang...  \n",
       "\n",
       "[200 rows x 3 columns]"
      ]
     },
     "execution_count": 41,
     "metadata": {},
     "output_type": "execute_result"
    }
   ],
   "source": [
    "df"
   ]
  },
  {
   "cell_type": "code",
   "execution_count": 42,
   "metadata": {},
   "outputs": [],
   "source": [
    "df = pd.DataFrame({'user': ['msaid_didu'], 'text': [df[2].str.cat(sep=' ')]})"
   ]
  },
  {
   "cell_type": "code",
   "execution_count": 43,
   "metadata": {
    "scrolled": true
   },
   "outputs": [
    {
     "data": {
      "text/html": [
       "<div>\n",
       "<style scoped>\n",
       "    .dataframe tbody tr th:only-of-type {\n",
       "        vertical-align: middle;\n",
       "    }\n",
       "\n",
       "    .dataframe tbody tr th {\n",
       "        vertical-align: top;\n",
       "    }\n",
       "\n",
       "    .dataframe thead th {\n",
       "        text-align: right;\n",
       "    }\n",
       "</style>\n",
       "<table border=\"1\" class=\"dataframe\">\n",
       "  <thead>\n",
       "    <tr style=\"text-align: right;\">\n",
       "      <th></th>\n",
       "      <th>user</th>\n",
       "      <th>text</th>\n",
       "    </tr>\n",
       "  </thead>\n",
       "  <tbody>\n",
       "    <tr>\n",
       "      <th>0</th>\n",
       "      <td>msaid_didu</td>\n",
       "      <td>RT @vintenas: Washington DC, militer dipanggil...</td>\n",
       "    </tr>\n",
       "  </tbody>\n",
       "</table>\n",
       "</div>"
      ],
      "text/plain": [
       "         user                                               text\n",
       "0  msaid_didu  RT @vintenas: Washington DC, militer dipanggil..."
      ]
     },
     "execution_count": 43,
     "metadata": {},
     "output_type": "execute_result"
    }
   ],
   "source": [
    "df"
   ]
  },
  {
   "cell_type": "code",
   "execution_count": 44,
   "metadata": {},
   "outputs": [],
   "source": [
    "df.to_pickle('msaid_didu.pkl')"
   ]
  },
  {
   "cell_type": "code",
   "execution_count": 47,
   "metadata": {},
   "outputs": [
    {
     "data": {
      "text/plain": [
       "'RT @vintenas: Washington DC, militer dipanggil utk mengamankan... \\n\\n https://t.co/h6yCJUVKsf RT @TofaTofa_id: MENUTUPI kebenaran itu, berbahaya. Ungkap!! RT @UmarChelsea70: Harga Buku Hamka di bukalapak. https://t.co/8DI9KLmyJs RT @redfishstream: This is what an uprising looks like.\\u2060\\n\\u2060\\nHundreds of thousands of people have taken to the streets in major cities across… RT @DemWrite: Colorado. At the Capitol. Laying face down. Chanting #icantbreathe.  https://t.co/rCr15QxkCM RT @ekowboy2: Then\\nDemo Turunkan SBY biasa aja tuh santuy, gak baperan, gak ada yang ditangkap..\\n\\nNow\\nSurati presiden mundur ditangkap\\nDisk… RT @Ayaniulva: Deklarasi kemerdekaan kita, utk membebaskan rakyat dari Penindasan,Intimidasi,Perlakuan Tidak adil,yang dilakukan oleh Penja… RT @kumparan: New normal yang diterapkan Korea Selatan 6 Mei lalu, memicu gelombang kedua virus corona. https://t.co/WMbrHCaSCO RT @hincapandjaitan: Semoga tidak ada ancaman lagi untuk diskusi kali ini yg mengakibatkan tidak terselenggaranya acara.\\n\\nNarasumbernya lua… RT @lutfimuhamad008: Dikarantin kabur, belum sampai rumah meninggal.\\n\\nLokasi: Nagel Mulyo Gang 1A SURABAYA\\n\\nSC: https://t.co/Q21LDF5lIk htt… RT @idtodayco: Otto Hasibuan: Peneror Mahasiswa UGM Harus Diusut Agar Citra Pemerintahan Jokowi Tak Tercoreng\\nhttps://t.co/H78Itqza8r RT @Breaking911: CHAOS: Police officers dragged through the street in Chicago \\n\\n https://t.co/DV8r8qHPyg @AsepWitoko Hahahaha RT @BNPB_Indonesia: Update Infografis percepatan penanganan COVID-19 di Indonesia per tanggal 31 Mei 2020 Pukul 12.00 WIB. #BersatuLawanCov… RT @idtodayco: Banyak Teror Atas Nama Presiden, Fahri Hamzah: Pak Jokowi, Mari Saling Membantu Bikin Suasana Bersahabat https://t.co/AGqBQK… RT @AdhieMassardi: SETELAH agama diposisikan sbg “musuh terbesar Pancasila” &amp; BPIP hanya event organizer yg gagal gelar konser amal, masih… RT @Stevaniehuangg: Jika Memang Konser Mendapat Rating Tinggi Lalu Kenapa Yg Dislike nya \"Brutal\" Sebanyak Itu Pak ???! \\n\\nOoh I See Mungkin… Monitor mention akun ini https://t.co/WiBPhFKT9y RT @Namaku_Anisa: Media Kuno Belanda: Fanatisme Islam Akar Utama Perlawanan Nusantara terhadap penjajah belanda. https://t.co/xjU3s75A9b RT @idtodayco: Peringatan Tegas MPR ke Polri Soal Ruslan Buton: Jangan Sembarangan Menangkap\\nhttps://t.co/CQeL1krtXu RT @hermantoregar: Per 31/5, jumlah kasus positif Covid-19 Indonesia bertambah 700, sehingga totalnya hampir 26.500 orang. Tren jumlah kasu… RT @geloraco: IPW Minta Polri Tidak Terlalu Parno dan Segera Bebaskan Ruslan Buton\\nhttps://t.co/R8dx5i6t5B Padahal produk ini jauh lebih nyata dari esemka https://t.co/Jr3FZ4C0e7 RT @KRMTRoySuryo2: Tweeps,\\nTakut (atau Malu?) Masa lalunya dibongkar terus sama Netizen, rupanya Sang Dirut @TVRINasional ini skrg Menutup… RT @geloraco: Ruslan Buton Memang Hero Yang Tampak Sejak Masih Sersan\\nhttps://t.co/iXCRPUSmez RT @zzakrm: Halo temen-temen semua. Aku mohon bantuannya ya. Aku lg butuh responden untuk skripsiku. Yang punya kenalan, keluarga, atau dir… RT @skripsinaura: @msaid_didu Malam Pak Said. Saat ini teman saya sedang melakukan skripsi mengenai ibu yang memiliki anak berkebutuhan khu… RT @KRMTRoySuryo2: Tweeps,\\nMeski sudah dihapus,\\nNamun Alhamdulillah sempat di screenshoot sebelumnya 😏\\nJadi kalau @Puspen_TNI &amp; @DivHumas_P… RT @BudiSetyarso: Mahasiswa semester dua diteror akan dibunuh, rumahnya didatangi beberapa ojek online bersamaan yang dipesan menggunakan a… RT @idtodayco: Ternyata Bukan Pembunuhan, Kuasa Hukum Sebut Ruslan Buton Dipecat dari TNI karena Tolak TKA China ke Maluku\\nhttps://t.co/KH6… RT @temponewsroom: Lobi-lobi pengusaha ikut mendorong pemerintah memberlakukan normal baru di tengah pandemi corona. Tanpa indikator jelas,… RT @CNNIndonesia: Lima Provinsi Tambahan Corona Tertinggi, Jatim Paling Banyak https://t.co/wBaUV1Ccyd RT @vintenas: Chase Bank and Union Bank dibakar di  San Diego.. \\n https://t.co/OHI0xOpEij RT @msaid_didu: Menikmati smooking area di Pentagon (foto lama) https://t.co/FAgzMQtvFm Menikmati smooking area di Pentagon (foto lama) https://t.co/FAgzMQtvFm RT @bos_sir: Mau ikut kuliah ahh,,, semoga bisa nambah2 prespektif pandangan ... @msaid_didu @Mrs_RG1 @demoSoCRAZY @M_Asmara1701 @Namaku_An… RT @demoSoCRAZY: Detik-detik Masjid Al Aqsha dibuka setelah 69 hari ditutup\\n\\nالحَمْدُ لِلّٰهِ رَبِّ العَالَمِيْنَ \\n\\nSemoga mesjid2 di neger… RT @CNNIndonesia: Bendera Merah Putih Berpalu Arit di Unhas, 11 Saksi Diperiksa https://t.co/QI6UKFoxUB RT @MichelAdamNP: JONGOS JONGOS JONGOS!\\n\\nJokowi Hapus Proyek Pesawat R80 Habibie, Lanjutkan Kereta Cepat Indonesia-China\\nhttps://t.co/MkyMB… RT @CNNIndonesia: #DataTerbaruCorona\\nPenambahan kasus terbanyak per Minggu (31/5) ini datang dari wilayah Jawa Timur dengan 244 pasien. Saa… RT @ZAEffendy: Shalat Subuh di masjid Nabawi, Madinah tadi pagi 31 Mei 2020/8 Syawal 1441 Hijriah...menerapkan physical distancing, dan par… RT @Mr_703n4_______: IPW Minta Bebaskan Pecatan TNI Ruslan Buton, Polri Terlalu Paranoid\\n\\nPenyampaian Aspirasi Seorang Rakyat Dijamin Oleh… RT @kumparan: PT Krakatau Steel (Persero) Tbk mencatatkan kinerja positif kuartal I 2020. Perseroan berhasil membukukan laba bersih sebesar… RT @Stevaniehuangg: Ingin Fokus Atau Ingin Menghilangkan Jejak Digital ??  \\nTapi Anda Lupa Netizen +62 Itu Jari2 Nya Gercep Auto Screen Sho… RT @mas__piyuuu: Refly Harun: Kritik Itu Tergantung Yang Menerima, Kalau Baperan Ya Langsung Dianggap Hinaan https://t.co/yjn8zgVtP5 https:… RT @zarazettirazr: Hari ini meninggal 40 jiwa 😞 RT @Breaking911: RIOTS UNDERWAY IN LOS ANGELES \\n\\nhttps://t.co/BFTPR4d7AW RT @tempodotco: Lobi-lobi pengusaha ikut mendorong pemerintah memberlakukan normal baru di tengah pandemi corona. Tanpa indikator jelas, pe… RT @JoshuaPotash: People seem determined to share only violent images tonight.\\n\\nPlease make sure that the massive peaceful protests like th… RT @CNNIndonesia: Jadi Polemik, Dirut TVRI Nonaktifkan Akun Twitter Pribadi https://t.co/LwldPQltgy RT @OssyDermawan: Menjadi sia-sia jika ada yg berpikir bisa membuat takut &amp; membungkam kebebasan berpendapat dari 260 juta rakyat Indonesia… RT @KRMTRoySuryo2: Tweeps,\\nBenar, maka kalau Baca semua KulTwit ttg @TVRINasional hari2 ini, akan jelas bahwa Saya tetap mengajak beri kese… RT @Namaku_Anisa: Dirut TVRI: Gerwani adalah Pembela Kaum Perempuan Indonesia (I)\\n\\nDIREKTUR UTAMA TELEVISI REPUBLIK INDONESIA.\\nhttps://t.co… RT @RamliRizal: Forward: Kahgama berharap teror terhadap mahasiswa UGM diusut tuntas - ANTARA News https://t.co/UEKcyTSPGm RT @bos_sir: Masa lalu Ruslan Buton pun terkuak, termasuk soal TKA China yang dikabarkan jadi faktir pemecatan dirinya dari TNI. @msaid_did… RT @RomitsuT: Hampir di semua negara bagian Amerika Serikat terjadi kerusuhan.... https://t.co/2K7XjSJu3v RT @MichelAdamNP: Kerja di Inggris harus bisa bahasa Inggris. \\nKerja di Arab harus bisa bahasa Arab.\\n\\nOrang Chino kerja di Indonesia, orang… RT @mas__piyuuu: TERCYDUK Ngetwit tentang PKI, Akun Twitter @imanbr Dirut TVRI Mendadak Lenyap, NGACIR? https://t.co/6GXwUOi3YJ https://t.c… RT @CNNIndonesia: Pasien Bertambah, Asa Indonesia Bebas Corona Mei 2020 Kandas https://t.co/6ACsl7uZ4q RT @Namaku_Anisa: Padahal mempromosikan program2 TVRI dgn akun twitter nya kan baik. Presiden dan pejabat negara lain nya juga sering ngetw… RT @geloraco: New York Times:\\xa0Indonesia Terlambat, Virus Corona Sudah Menyebar Luas\\n\\nhttps://t.co/AEbFSP15RL Ayo ramaikan https://t.co/sXdrRIhNJK RT @vintenas: Rusuh di Tampa, Florida.. \\n https://t.co/My91GpYnjM RT @KRMTRoySuryo2: Tweeps,\\nSesuai Twit Prof @mohmahfudmd @PolhukamRI ini berarti jelas yg Salah Paham TOR &amp; kemudian membuat Provokasi di b… RT @msaid_didu: Gaya DP nya sih oke - tapi cara ambil kesimpulan ga oke banget.\\nJumping conclution RT @RamliRizal: Pak Marzuki,, jangan sampai jadi Tim Horee doang 🙂 RT @msaid_didu: Alhamdulillah anak saya usia 19 tahun sdh masuk S2 di UTS.  Semoga anak anda juga sukses Alhamdulillah anak saya usia 19 tahun sdh masuk S2 di UTS.  Semoga anak anda juga sukses https://t.co/RE6xNJZQek Gaya DP nya sih oke - tapi cara ambil kesimpulan ga oke banget.\\nJumping conclution https://t.co/feX0q572pW RT @zarazettirazr: Aku juga baru hari ini test lagi karena rada ga enak badan bersin2 kaya flu. Testnya malah datang kerumah krn usiaku mas… RT @ShamsiAli2: Amerika lagi panas. Isunya bukan sekedar kematian seorang warga Afro. Tapi yang lebih mendasar adalah bahwa, memakai kata s… RT @msaid_didu: Penanganan Corona di Sydney. \\nAnak saya demam tinggi sktr jam 03.00 subuh, krn takut corona dia telpon call center corona,… Penanganan Corona di Sydney. \\nAnak saya demam tinggi sktr jam 03.00 subuh, krn takut corona dia telpon call center… https://t.co/ggaYRD8sbT RT @bos_sir: Terkait Ruslan Buton @demoSoCRAZY @msaid_didu\\n\\nhttps://t.co/6ezvcmdZy2 RT @idtodayco: Refly Harun: Meminta Presiden Mundur Itu Enggak Apa-apa\\nhttps://t.co/jcgRjH3h8B RT @geloraco: Bagi Pakar Hukum Trisakti, Ruslan Buton Sebatas Menyampaikan Aspirasi Dan Belum Bisa Dipidana\\nhttps://t.co/ZmRG8WtWwM RT @Breaking911: MINNEAPOLIS: Reports of fires in almost empty Target store; witnesses say people are using power tools to open cash regist… RT @malakmalakmal: Di AS, yg rakyatnya sekuler bgt, rutin terjadi penembakan masal, KDRT, rasisme, dan skrg terjadi kerusuhan, penjarahan,… RT @CNNIndonesia: Los Angeles Umumkan Situasi Darurat Buntut Rusuh Aksi Floyd https://t.co/eF6boKsjT9 RT @VIVAcoid: Massa Protes Kematian George Flyod Jarah LV, Gucci dan Brand Mewah https://t.co/8zp9lQPf8w RT @D4tuk_T4mburin: Santapan lahap corona nih klu begini ceritanya😔 https://t.co/8nT4OkAx86 Dukung https://t.co/I6QmRH1sHl RT @JSuryoP1: Roy Suryo mempertanyakan jejak digital Dirut TVRI Iman Brotoseno yang pernah membuat kultwit soal Gerwani. https://t.co/7ck6a… RT @GrantB911: *Louisville demonstrators try to flip police transport truck*\\n\\nReporter: “This is peaceful..”\\n\\n*Gunfire*\\n\\n#BrionnaTaylor \\n\\nh… RT @Namaku_Anisa: Ini akun2 pemimpin Negara yang aktif :\\n@jokowi @Kiyai_MarufAmin @prabowo @mohmahfudmd\\n@erickthohir dan masih byk lagi.\\n\\nA… RT @vintenas: Toko Nike dijarah di Chicago... \\n https://t.co/zqfX3ACj5d RT @ReflyHZ: Kritik itu tergantung yg nerimanya. Kalau baperan, langsung dicap sbg penghinaan bahkan serangan. Kalau luas jiwanya, akan mem… RT @Lisaamartatara5: Banyak yg heran kenapa aku gak ke akun yg ada keran airnya yg sdh 68K..\\n\\nAku mau ademin dl tuh akun dr Cebong krn Mrk… RT @Si_Bee: Polri Akan Usut Teror ke Panitia dan Pemateri Diskusi UGM \\n\\nMeski hingga saat ini belum ada laporan, Argo menegaskan, Polri tel… RT @vintenas: Salt Lake City.... \\n https://t.co/wXs8beHvsC RT @jamilahmuhamma0: Simak👇🏼GUCCI store at BEVERLY HILLS mau di bongkar😭😭makin Brutal👇🏼 https://t.co/KQa3Rpzq1e RT @KRMTRoySuryo2: Tweeps,\\nSelain Rekam jejak yg Lucu2, tetapi banyak yg ke arah Diskusi esek-esek &amp; Haluan \"kiri\",\\nIni ada Pemikiran dari… Hahaha ternyata https://t.co/soztmz6CBK RT @mas__piyuuu: Terduga Provokator Makar di Kampus UGM Ternyata Calon Rektor Gagal, Roy Suryo: Harus Tangkap Oknum Ini! https://t.co/FOd2b… RT @Namaku_Anisa: Dirut TVRI bilang dia nonaktifkan akun twitter nya karena ingin fokus kerja.Sedangkan presiden &amp; wakil presiden juga para… RT @Abaaah: Hati2 posting di Sosmed guys. Kita kan gak tau ya, suatu saat mungkin Anda jadi pejabat publik. \\n\\nJangan sampe kayak akun @iman… Ternyataaaaa https://t.co/5BZiWxFSbA RT @mas__piyuuu: Masjid #Nabawi Madinah Mulai Dibuka Kembali Hari Ini, Ini Penampakan Jamaah Shalat Subuh Perdana https://t.co/7sbiMpsf7S h… RT @mas__piyuuu: Kuasa Hukum: Pemecatan Ruslan Buton dari TNI Karena Dia Tolak TKA China Masuk ke Maluku https://t.co/RBvQcssf1S https://t.… RT @AwalilRizky: Pelaksanaan Kebijakan Moneter oleh Bank Indonesia memakai berbagai instrumen. Ada yang menimbulkan penghasilan, mencapai R… RT @BennyHarmanID: Selamat pagi republik. Negeri mafia. Siapa yang meneror, dia yang menyelidiki. Hasilnya ambyaaar. Itulah ciri negeri maf… RT @rob_bennett: Oh my god. What is the @NYPDnews doing? https://t.co/rZayr421pJ RT @KRMTRoySuryo2: Tweeps,\\nSelain Surat Resmi dari Dekan FH @UGMYogyakarta yg sudah jelas2 menyebut si KPH Bagas Pujilaksono, Pengamat juga… RT @TofaTofa_id: Wajahnya kok khas banget ya RT @Stevaniehuangg: New Normal di Korsel Gagal \\n\\nhttps://t.co/AzsKR9l3xs RT @wotonnie: 📝 Nasihat orang tua saya : \" Jangan pernah cemburui rezeki orang lain karena bisa saja Allah akan cabut rezeki kamu sebesar y… RT @marzukialie_MA: Sekarang ini marwah @DPR_RI benar2 dipertaruhkan, sdh 2 kali kesepakatan dpr dengan pihak pemerintah tidak ditaati peme… RT @okezonenews: Kerusuhan AS, 25 Kota Berlakukan Jam Malam #TauCepatTanpaBatas #BeritaTerkini #International #BeritaInternasional . https:… RT @JoshuaPotash: Miami tonight. Unbelievable.\\n\\nSomething huge is happening across America.\\n\\n#BLACK_LIVES_MATTER \\nhttps://t.co/SSXMFs7nUM @G4kNy3r4hBR0___ Hahahaha RT @VIVAcoid: Cuitan Bokep dan Mak Erot Bikin Ngakak, Ternyata Bisa Jadi Dirut TVRI https://t.co/mlTb3WkYeH RT @republikaonline: Polri telah memulai langkah penyelidikan untuk mengungkap tindakan pembungkaman. https://t.co/CtYGiSakzr RT @republikaonline: Pemuda Muhammadiyah minta kepolisian untuk segera menangkap pelaku teror. https://t.co/Yt0idEvgBA RT @kumparan: Ribuan kasus COVID-19 di Surabaya ini sebagai hasil dari 21 ribu lebih rapid test yang digelar. #publisherstory https://t.co/… RT @msaid_didu: Pemimpin yg diam saat terjadi teror kepada rakyatnya secara etika kepemimpinan dapat dianggap \"merestui\" teror tersebut ata… RT @UmarChelsea70: Welcome buzzerrp parawisata. https://t.co/GPavuYWu3b RT @TirtoID: \"Hilangnya nyawa orang, meski akibat ketidaksengajaan, tetap merupakan tindak pidana.\"\\n\\nhttps://t.co/ipTgwievzh Pemimpin yg diam saat terjadi teror kepada rakyatnya secara etika kepemimpinan dapat dianggap \"merestui\" teror ters… https://t.co/DYT1gmX0wI RT @ManCity: 1️⃣0️⃣0️⃣ https://t.co/uHoFpLJ4Rb RT @Dakarai_Turner: CNN just showed video from Los Angeles of an make officer getting beat by a crowd after attempting to detain someone. W… RT @kumparan: Sejumlah wilayah di AS, khususnya Minneapolis berubah mencekam akibat protes yang berujung kerusuhan dan penjarahan. #kumpara… RT @BungRetweet: Konon, Amerika Serikat seringkali menjadi rujukan demokrasi diterapkan. \\n\\nTapi lihatlah hari ini, Minneapolis, LA, Dallas,… RT @TofaTofa_id: Dugaan saya, nanti ada \\'TWEET hasil EDITAN\\', lalu ada pelaku penyebar hoax yg ditangkap. PressConference. Jadi berita besa… RT @jamilahmuhamma0: Simak👇🏼RIOT, Black Lives Metter!Di ORAGON STATE, USA https://t.co/v5caqwmX3g RT @YongL4dy: Ruang diskusipun dituduh makar, Antara kehebatan penjilat atau kehebatan Boneka\\n\\nNoted: Semakin kau memusuhi rakyat semakin k… RT @CNNIndonesia: Jadi Klaster Corona, Pasar Cileungsi Bogor Ditutup Sementara https://t.co/K4aPqhZGzF RT @vintenas: Di Dallas\\n\\n https://t.co/9TgEtzBcz9 RT @tempodotco: Teror di Diskusi Mahasiswa UGM, Mahfud Md Minta Korban Melapor https://t.co/Os3pe7NQvJ RT @ReflyHZ: Meminta presiden mundur itu nggk apa2 dlm demokrasi. Yg nggk boleh, maksa presiden mundur. RT @tempodotco: Ancaman Pembunuhan di Diskusi UGM, Polri Siap Turun Tangan https://t.co/5EoLFV182K RT @ClayTravis: The mayor of Atlanta just went off. Watch this: https://t.co/hmeFuGybXS RT @helmyyahya: Ketika Charles Bonar, Mantan Calon Dirut TVRI, mengorek2 saya Part 1. Hahaha! Banyak cerita menarik! Simak di Helmy Yahya B… RT @ShehabAgencyEn: Happening every day in occupied Palestine! https://t.co/TDVAQnkrec RT @FarukFirat1987: #Minneapolis: Video showing the brutal arrest of George Floyd, who later died. So sad. Rest in peace 🌹\\n\\n#GeorgeFloyd #G… RT @CNNIndonesia: Bayi Kembar di Batam Positif Corona, Kondisi Sempat Lemah https://t.co/vgG2IxFzyI RT @KRMTRoySuryo2: Tweeps,\\nSiapa Provokator di @UGMYogyakarta yg berakibat Diskusi Ilmiah di FH jadi Teror ke UGM, UII &amp; Muhammadiyah\\nDiseb… RT @VIVAcoid: NASA Mau Kirim Astronot di Waktu Paling Utama untuk Salat Tahajud https://t.co/QAnXm6xqM4 Alfatihah buat Pak Habibie. https://t.co/3eiK5JuYKX @KRMTRoySuryo2 @UGMYogyakarta Provokator seperti ini apakah bebas hukum ? RT @washingtonpost: NYPD to investigate reports of police officers using force on protesters https://t.co/IYQntOkDYC RT @RealBaseBoogie: Bruh really just did that 😂😂😂 https://t.co/c6zOiR0fhH RT @TIMEWorld: Angela Merkel ‘Cannot Commit’ to Attending G7 Summit Hosted by Trump Due to COVID-19 https://t.co/mk19EC2lho RT @jawapos: Buntut Kematian George Floyd, Massa dari Luar Negara Bagian Ikut Rusuh https://t.co/44AXlIvYnm RT @Demokrat_TV: Agta Komisi III dr @FPD_DPR @DidikMukrianto: \\nHanya negara anti-demokrasi &amp; pemimpin otoriter yg menggunakan pendekatan ke… RT @AfincaRisca: Untuk teman² semua jika ada yg bertemu mamah saya di sekitaran cilodong, kampung bulak, citayam Dll saya minta tolong untu… Alfatihah buat Pak Habibie https://t.co/wdoPDXqLHG RT @syahrial_nst: Even photoshop I might not be able to do here in my country 🇮🇩. Do you know abt buzzeRp? The sosmed government troops. Th… RT @isk_pelssy: https://t.co/jXdIphB6GK RT @Demokrat_TV: Prof. H. Denny Indrayana, S.H., LL.M., Ph.D. mendapatkan kepercayaan Partai Demokrat sebagai Calon Gubernur Kalimantan Sel… Coba monitor mention akun ini https://t.co/SMkHEuqZni RT @luviku: Ibu risma memikirkan surabaya, bener. Tp ibu kofifa memikirkan jatim, dimana seluruh daerahnya merah membara. RT @geloraco: Refly Harun: Pemimpin yang Baik Itu Mendengar Kritik, Bukan Nyerang Balik\\nhttps://t.co/kFVkDU5jEx RT @demoSoCRAZY: Berani inisiasi tagar u/ serang Pak @msaid_didu sblm beliau datang ke Bareskrim u/ di periksa;\\n\\nBikin video provokasi nant… Ojol ikutan ? https://t.co/NA9KUaFI98 RT @Reiza_Patters: UGM Ungkap Teror Gegara Diskusi: Ojol \\'Serbu\\' Rumah, Ancaman Pembunuhan https://t.co/GRVwHIdDf2 RT @idtodayco: Minta Umat Bersiap Kembali ke masjid, DMI: Masjid Lebih Aman Daripada Mal https://t.co/JvL1T61Z0D RT @geloraco: Israel Tangkap Imam Besar Masjid Al Aqsa\\nhttps://t.co/FZYBHKlS1d RT @geloraco: Awalnya Santuy, New Normal Ala Swedia Berakhir Gagal Total\\nhttps://t.co/D9n910YXH9 RT @msaid_didu: Ini masalah serius - perlu perhatian serius RT @msaid_didu: Haaa pemerintah menggaji ? Pemerintah itu digaji oleh rakyat RT @EnggalPMT: Heran sama Amerika akhir² ini, Luxury Store ga dijaga pihak keamanan. Disini Mangga Dua sama Indomaret aja dijaga pakai Pans… RT @sandalista1789: buzzeRp dan lembaga survei bersatu RT @KontanNews: UII minta polisi usut tuntas intimidasi terhadap panitia dan narasumber diskusi UGM https://t.co/6Vm7iSVecV #Hukum Ini masalah serius - perlu perhatian serius https://t.co/wDubD3aL1b RT @panca66: Kok pak Jokowi ngacir ya? Maskernya mana? https://t.co/V0Amsir1eP RT @iancanwrite: TRUMP https://t.co/tLFyG5wAdT RT @Itang_Makatita: @JimlyAs @msaid_didu Nikmati hasil pilihan mu kanda @JimlyAs https://t.co/e0do9YE92O RT @Bemz_Q: Peogram pembangunan itu hakikatnya kesinambungan dan perubahan, continuity and change. Yang baik dilanjutkan, yang kurang baik… RT @AdhieMassardi: DIPERMALUKAN TVRI 》 sy merasa jagoan politik nasional coz kenal sumber2 utamanya. Tp kasus di TVRI bikin sy jd bego. Gak… @ZainulKarom @MS_Didu Cadangan saya RT @ShamsiAli2: I pray for my city, NYC to teman peaceful and calm. Please do resist all injustices peacefully....PEACE is our way to PEACE… RT @wotonnie: @msaid_didu @emilsalim2010 Satu Minggu lagi Prof @emilsalim2010 , akan berusia 90 tahun. Usia matang yang telah malang melint… Setuju https://t.co/HVTayvLvV1 RT @VIVAcoid: UII Akan Laporkan Pelaku Teror yang Mengancam Guru Besar Nimatul Huda https://t.co/6E4RR4Zc8j RT @Fahrihamzah: Lapor kemana ya? RT @Dandhy_Laksono: Dosen teknik: Saatnya nuklir untuk listrik.\\n\\nMahasiswa hukum: Wah, ingat Chernobyl dan Fukushima.\\n\\nDosen teknik: Hahaha… RT @panca66: Hujan2 enak ngebakso nih https://t.co/007tvEW5LH RT @msaid_didu: @emilsalim2010 Terus sehat prof. \\nBagi saya Bapak bukanlah seorang lansia tetap sumber ilmu bagi yg mau belajar seperti say… RT @PresidenKopi: Netizen sadis , 🤣🤣 bang Dirut ampooon. RT @jansen_jsp: Kok bisa hal seperti ini terjadi ditengah begitu banyaknya eks aktivis HAM &amp; prodemokrasi di kekuasaan. Yg kerjanya juga du… @emilsalim2010 Terus sehat prof. \\nBagi saya Bapak bukanlah seorang lansia tetap sumber ilmu bagi yg mau belajar sep… https://t.co/ZNUfiUT48V @ZainulKarom @MS_Didu Yang @msaid_didu RT @emilsalim2010: Pada “Hari Lansia” yg paling dirisaukan bahwa Sang Lansia karena ke-lansiaan-nya dianggap tidak berguna dan hanya menjad… @mario_setara Komentar #asalmangap @Satocie_ Betul RT @msaid_didu: Selamat ulang tahun ke 50 buat pak Menteri @erickthohir. \\nPanjang umur, sehat, terus jaga amanah dan selalu berada di jalan… RT @msaid_didu: Pernyataan jujur.\\nSebenarnya sblm corona sdh banyak yg sakit @Betamerdeka01 Mention #asalmangap. \\nSaya sdh lama ternak sapi RT @msaid_didu: Main dulu ya https://t.co/LmMOmZY1Ko Main dulu ya https://t.co/LmMOmZY1Ko RT @tvOneNews: Gedung Putih dikepung unjuk rasa. \\nSaksikan berita selengkapnya di Kabar Hari Ini, jam 23.30 WIB bersama Anna Thealita hanya… @Effendi____ Terima kasih RT @TofaTofa_id: Apakah kalian sudah tahu bahwa ada kelompok yang mencatut nama @muhammadiyah untuk meneror UGM jelang seminar? PASTI  kali… RT @HaedarNs: Menjadi keren tanpa prank https://t.co/sHj6hP0IOm RT @m_nurfatoni: Muhammadiyah Minta Polisi Usut Peneror https://t.co/1i2VaiMTNI\\n\\n@TofaTofa_id @muhammadiyah @HaedarNs @PresidenKopi Yang sakit sebelumnya banyak tapi tambah sakit saat kena dampak corona. Ada juga yg sakit saat corona datang RT @_____31ns: Smoga peranakan PKI tak mendidih melihat ini..\\n\\nPak Harto : \" Bung Karno tahu saya akan bubarkan PKI\"\\n\\nNew Normal : \" saya t… RT @ASB_Breaking: BREAKING: #OHIO STATE HOUSE STORMED AND BEING DESTROYED. \\n\\nThis is where the “White House” video is from— although there’… RT @DonAdam68: Selamat buka puasa Puang.... RT @CNNIndonesia: Minta Jokowi Mundur, Eks Anggota TNI Ruslan Buton Resmi Dibui https://t.co/ESyCwvIK62'"
      ]
     },
     "execution_count": 47,
     "metadata": {},
     "output_type": "execute_result"
    }
   ],
   "source": [
    "df['text'][0]"
   ]
  },
  {
   "cell_type": "code",
   "execution_count": null,
   "metadata": {},
   "outputs": [],
   "source": []
  },
  {
   "cell_type": "code",
   "execution_count": null,
   "metadata": {},
   "outputs": [],
   "source": []
  },
  {
   "cell_type": "markdown",
   "metadata": {},
   "source": [
    "# GET SPESIFIC SEARCH"
   ]
  },
  {
   "cell_type": "code",
   "execution_count": 12,
   "metadata": {},
   "outputs": [],
   "source": [
    "#GET SPESIFIC SEARCH\n",
    "tweets_list = []\n",
    "text_query = '#DirutBokep'\n",
    "count = 100\n",
    "try:\n",
    "# Pulling individual tweets from query\n",
    "    for tweet in api.search(q=text_query, count=count):\n",
    "# Adding to list that contains all tweets\n",
    "      tweets.append((tweet.created_at,tweet.id,tweet.text))\n",
    "except BaseException as e:\n",
    "    print('failed on_status,',str(e))\n",
    "    time.sleep(3)\n"
   ]
  },
  {
   "cell_type": "code",
   "execution_count": 13,
   "metadata": {},
   "outputs": [
    {
     "data": {
      "text/plain": [
       "[]"
      ]
     },
     "execution_count": 13,
     "metadata": {},
     "output_type": "execute_result"
    }
   ],
   "source": [
    "tweets_list"
   ]
  },
  {
   "cell_type": "code",
   "execution_count": null,
   "metadata": {},
   "outputs": [],
   "source": [
    "import csv\n",
    "# Open/Create a file to append data\n",
    "csvFile = open('ua.csv', 'a')\n",
    "#Use csv Writer\n",
    "csvWriter = csv.writer(csvFile)\n",
    "\n",
    "for tweet in tweepy.Cursor(api.search,q=\"#DirutBokep\",count=100,\n",
    "                           since=\"2017-04-03\").items():\n",
    "    print (tweet.created_at, tweet.text)\n",
    "    csvWriter.writerow([tweet.created_at, tweet.text.encode('utf-8')])"
   ]
  },
  {
   "cell_type": "code",
   "execution_count": null,
   "metadata": {},
   "outputs": [],
   "source": []
  }
 ],
 "metadata": {
  "kernelspec": {
   "display_name": "Python 3",
   "language": "python",
   "name": "python3"
  },
  "language_info": {
   "codemirror_mode": {
    "name": "ipython",
    "version": 3
   },
   "file_extension": ".py",
   "mimetype": "text/x-python",
   "name": "python",
   "nbconvert_exporter": "python",
   "pygments_lexer": "ipython3",
   "version": "3.7.4"
  }
 },
 "nbformat": 4,
 "nbformat_minor": 4
}
