{
 "cells": [
  {
   "cell_type": "markdown",
   "metadata": {
    "colab_type": "text",
    "id": "view-in-github"
   },
   "source": [
    "<a href=\"https://colab.research.google.com/gist/irzaip/04be0d9ee58ce2e997a7ffd2a958075c/word2vec_trainer.ipynb\" target=\"_parent\"><img src=\"https://colab.research.google.com/assets/colab-badge.svg\" alt=\"Open In Colab\"/></a>"
   ]
  },
  {
   "cell_type": "markdown",
   "metadata": {
    "colab_type": "text",
    "id": "uRxuWNGUa-8i"
   },
   "source": [
    "# Unduh artikel wikipedia terbaru. \n",
    "\n",
    "Jalankan ini dengan Python3 please."
   ]
  },
  {
   "cell_type": "code",
   "execution_count": 1,
   "metadata": {
    "colab": {},
    "colab_type": "code",
    "id": "LR-TDLGxaPfh"
   },
   "outputs": [
    {
     "name": "stderr",
     "output_type": "stream",
     "text": [
      "'wget' is not recognized as an internal or external command,\n",
      "operable program or batch file.\n"
     ]
    }
   ],
   "source": [
    "!wget https://dumps.wikimedia.org/idwiki/latest/idwiki-latest-pages-articles.xml.bz2"
   ]
  },
  {
   "cell_type": "markdown",
   "metadata": {
    "colab_type": "text",
    "id": "l4nNqNqfbS8y"
   },
   "source": [
    "## Memproses file wikipedia (streaming)"
   ]
  },
  {
   "cell_type": "code",
   "execution_count": 4,
   "metadata": {
    "colab": {},
    "colab_type": "code",
    "id": "p6CoRzWTZ1-S"
   },
   "outputs": [
    {
     "name": "stdout",
     "output_type": "stream",
     "text": [
      "Streaming wiki...\n",
      "10000 articles processed\n",
      "20000 articles processed\n",
      "30000 articles processed\n",
      "40000 articles processed\n",
      "50000 articles processed\n",
      "60000 articles processed\n",
      "70000 articles processed\n",
      "80000 articles processed\n",
      "90000 articles processed\n",
      "100000 articles processed\n",
      "110000 articles processed\n",
      "120000 articles processed\n",
      "130000 articles processed\n",
      "140000 articles processed\n",
      "150000 articles processed\n",
      "160000 articles processed\n",
      "170000 articles processed\n",
      "180000 articles processed\n",
      "190000 articles processed\n",
      "200000 articles processed\n",
      "210000 articles processed\n",
      "220000 articles processed\n",
      "230000 articles processed\n",
      "240000 articles processed\n",
      "250000 articles processed\n",
      "260000 articles processed\n",
      "270000 articles processed\n",
      "280000 articles processed\n",
      "290000 articles processed\n",
      "300000 articles processed\n",
      "310000 articles processed\n",
      "320000 articles processed\n",
      "330000 articles processed\n",
      "340000 articles processed\n",
      "350000 articles processed\n",
      "360000 articles processed\n",
      "370000 articles processed\n",
      "380000 articles processed\n",
      "390000 articles processed\n",
      "total: 396822 articles\n",
      "Elapsed time: 0:10:48.455632\n"
     ]
    }
   ],
   "source": [
    "import io\n",
    "import time\n",
    "from datetime import timedelta\n",
    "\n",
    "import gensim\n",
    "\n",
    "\n",
    "start_time = time.time()\n",
    "print('Streaming wiki...')\n",
    "id_wiki = gensim.corpora.WikiCorpus('idwiki-latest-pages-articles.xml.bz2', lemmatize=False, dictionary={})\n",
    "article_count = 0\n",
    "\n",
    "with io.open('idwiki.txt', 'w', encoding='UTF8') as wiki_txt:\n",
    "    for text in id_wiki.get_texts():\n",
    "\n",
    "        wiki_txt.write(\" \".join(map(str, text)) + '\\n')\n",
    "        article_count += 1\n",
    "\n",
    "        if article_count % 10000 == 0:\n",
    "            print('{} articles processed'.format(article_count))\n",
    "\n",
    "    print('total: {} articles'.format(article_count))\n",
    "\n",
    "finish_time = time.time()\n",
    "print('Elapsed time: {}'.format(timedelta(seconds=finish_time-start_time)))"
   ]
  },
  {
   "cell_type": "markdown",
   "metadata": {
    "colab_type": "text",
    "id": "mA2_f20yhZJi"
   },
   "source": [
    "## TRAINING WORD2VEC"
   ]
  },
  {
   "cell_type": "code",
   "execution_count": 5,
   "metadata": {
    "colab": {},
    "colab_type": "code",
    "id": "caEuhHisbqk9"
   },
   "outputs": [
    {
     "name": "stdout",
     "output_type": "stream",
     "text": [
      "Training Word2Vec Model...\n",
      "Finished. Elapsed time: 0:09:25.778100\n"
     ]
    }
   ],
   "source": [
    "import time\n",
    "import multiprocessing\n",
    "from datetime import timedelta\n",
    "\n",
    "from gensim.models import word2vec\n",
    "\n",
    "start_time = time.time()\n",
    "print('Training Word2Vec Model...')\n",
    "sentences = word2vec.LineSentence('idwiki.txt')\n",
    "id_w2v = word2vec.Word2Vec(sentences, size=50, workers=multiprocessing.cpu_count()-1)\n",
    "id_w2v.save('idwiki_word2vec_50.model')\n",
    "finish_time = time.time()\n",
    "\n",
    "print('Finished. Elapsed time: {}'.format(timedelta(seconds=finish_time-start_time)))"
   ]
  },
  {
   "cell_type": "code",
   "execution_count": 0,
   "metadata": {
    "colab": {},
    "colab_type": "code",
    "id": "8EpPNmMgKOO4"
   },
   "outputs": [],
   "source": []
  }
 ],
 "metadata": {
  "colab": {
   "collapsed_sections": [],
   "include_colab_link": true,
   "name": "word2vec_trainer.ipynb",
   "provenance": [],
   "version": "0.3.2"
  },
  "kernelspec": {
   "display_name": "Python 3",
   "language": "python",
   "name": "python3"
  },
  "language_info": {
   "codemirror_mode": {
    "name": "ipython",
    "version": 3
   },
   "file_extension": ".py",
   "mimetype": "text/x-python",
   "name": "python",
   "nbconvert_exporter": "python",
   "pygments_lexer": "ipython3",
   "version": "3.7.4"
  }
 },
 "nbformat": 4,
 "nbformat_minor": 1
}
